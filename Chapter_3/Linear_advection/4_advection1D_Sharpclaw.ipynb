{
 "cells": [
  {
   "cell_type": "code",
   "execution_count": 91,
   "id": "e3402468",
   "metadata": {},
   "outputs": [],
   "source": [
    "%matplotlib inline\n",
    "\n",
    "from numpy import sqrt, exp, cos, logical_and, where\n",
    "from clawpack import riemann\n",
    "from clawpack import pyclaw\n",
    "\n",
    "def advection(q_l,q_r,aux_l,aux_r,problem_data):\n",
    "    r\"\"\"\n",
    "    1d linear advection riemann solver \n",
    "    \"\"\"\n",
    "    import numpy as np\n",
    "    num_eqn = 1\n",
    "    num_waves = 1\n",
    "\n",
    "    # Convenience\n",
    "    num_rp = q_l.shape[1]\n",
    "\n",
    "    # Return values\n",
    "    wave = np.empty( (num_eqn, num_waves, num_rp) )\n",
    "    s = np.empty( (num_waves, num_rp) )\n",
    "    amdq = np.empty( (num_eqn, num_rp) )\n",
    "    apdq = np.empty( (num_eqn, num_rp) )\n",
    "\n",
    "    # Local values\n",
    "    delta = np.empty(np.shape(q_l))\n",
    "\n",
    "    delta = q_r - q_l\n",
    "    a =  problem_data['u']\n",
    "    \n",
    "    # Compute the wave\n",
    "    # 1-Wave\n",
    "    wave[0,0,:] = delta \n",
    "    s[0,:] = a\n",
    "\n",
    " \n",
    "\n",
    "    # Compute the left going and right going fluctuations\n",
    "    for m in range(num_eqn):\n",
    "        amdq[m,:] = min(a,0) * wave[m,0,:]\n",
    "        apdq[m,:] = max(a,0) * wave[m,0,:]\n",
    "\n",
    "    return wave, s, amdq, apdq\n",
    "\n",
    "\n",
    "def setup(outdir='./_output',  output_style=1):\n",
    "    \n",
    "    #solver = pyclaw.ClawSolver1D(advection)\n",
    "    #solver.rp = riemann.advection_1D_py.advection_1D\n",
    "    solver = pyclaw.SharpClawSolver1D()\n",
    "    solver.rp = advection\n",
    "    solver.weno_order = 5\n",
    "    solver.lim_type = 2\n",
    "    solver.time_integrator = 'SSP33'\n",
    "    solver.cfl_max = 0.5\n",
    "\n",
    "    solver.num_waves = 1\n",
    "    solver.num_eqn = 1\n",
    "    solver.kernel_language = 'Python'\n",
    "    solver.limiters = pyclaw.limiters.tvd.superbee\n",
    "    solver.bc_lower[0] = pyclaw.BC.periodic\n",
    "    solver.bc_upper[0] = pyclaw.BC.periodic\n",
    "    #solver.order = 2 #1: Godunov, 2: Lax-Wendroff-LeVeque\n",
    "    \n",
    "    x = pyclaw.Dimension(0.0, 1.0, 100, name='x')\n",
    "    domain = pyclaw.Domain(x)\n",
    "    num_eqn = 1\n",
    "    \n",
    "    state = pyclaw.State(domain, num_eqn)\n",
    "    \n",
    "    a = 0.5  # advection velocity\n",
    "    state.problem_data['u'] = a\n",
    "    \n",
    "    xc = domain.grid.x.centers\n",
    "    beta = 100\n",
    "    gamma = 0\n",
    "    x0 = 0.75\n",
    "    state.q[0, :] = exp(-beta * (xc-x0)**2) + where(logical_and(xc > 0.1, xc < 0.4),  1, 0)\n",
    "     \n",
    "    claw = pyclaw.Controller()\n",
    "    claw.solution = pyclaw.Solution(state, domain)\n",
    "    claw.solver = solver\n",
    "    claw.outdir = outdir\n",
    "    claw.output_style = output_style\n",
    "    claw.tfinal = 4.0\n",
    "    claw.num_output_times = 10\n",
    "    claw.keep_copy = True\n",
    "    #claw.setplot = setplot\n",
    "\n",
    "    return claw\n",
    "\n",
    "\n",
    "def setplot(plotdata):\n",
    "    \"\"\" \n",
    "    Plot solution using VisClaw.\n",
    "    \"\"\" \n",
    "    plotdata.clearfigures()  # clear any old figures,axes,items data\n",
    "\n",
    "    plotfigure = plotdata.new_plotfigure(name='q', figno=1)\n",
    "\n",
    "    # Set up for axes in this figure:\n",
    "    plotaxes = plotfigure.new_plotaxes()\n",
    "    plotaxes.ylimits = [-.2,1.0]\n",
    "    plotaxes.title = 'q'\n",
    "\n",
    "    # Set up for item on these axes:\n",
    "    plotitem = plotaxes.new_plotitem(plot_type='1d_plot')\n",
    "    plotitem.plot_var = 0\n",
    "    plotitem.plotstyle = '-o'\n",
    "    plotitem.color = 'b'\n",
    "    plotitem.kwargs = {'linewidth':2,'markersize':5}\n",
    "    \n",
    "    return plotdata\n",
    "\n",
    "def qtrue(x,t):\n",
    "    \"\"\"\n",
    "    The true solution, for comparison.  \n",
    "    \"\"\"\n",
    "    from numpy import mod, exp, where, logical_and\n",
    "    beta = 100\n",
    "    gamma = 0\n",
    "    x0 = 0.75\n",
    "    u = claw.solution.state.problem_data['u']  \n",
    "    xm = x - u*t\n",
    "    xm = mod(xm, 1.)   # because of periodic boundary conditions\n",
    "    q = exp(-beta * (xm-x0)**2) + where(logical_and(xm > 0.1, xm < 0.4),  1, 0)\n",
    "    return q"
   ]
  },
  {
   "cell_type": "code",
   "execution_count": 92,
   "id": "d2bf16ea",
   "metadata": {},
   "outputs": [
    {
     "name": "stdout",
     "output_type": "stream",
     "text": [
      "2024-01-03 14:20:08,739 INFO CLAW: Solution 0 computed for time t=0.000000\n",
      "2024-01-03 14:20:08,785 INFO CLAW: Solution 1 computed for time t=0.400000\n",
      "2024-01-03 14:20:08,839 INFO CLAW: Solution 2 computed for time t=0.800000\n",
      "2024-01-03 14:20:08,890 INFO CLAW: Solution 3 computed for time t=1.200000\n",
      "2024-01-03 14:20:08,930 INFO CLAW: Solution 4 computed for time t=1.600000\n",
      "2024-01-03 14:20:08,980 INFO CLAW: Solution 5 computed for time t=2.000000\n",
      "2024-01-03 14:20:09,021 INFO CLAW: Solution 6 computed for time t=2.400000\n",
      "2024-01-03 14:20:09,064 INFO CLAW: Solution 7 computed for time t=2.800000\n",
      "2024-01-03 14:20:09,106 INFO CLAW: Solution 8 computed for time t=3.200000\n",
      "2024-01-03 14:20:09,159 INFO CLAW: Solution 9 computed for time t=3.600000\n",
      "2024-01-03 14:20:09,205 INFO CLAW: Solution 10 computed for time t=4.000000\n",
      "Executed setplot successfully\n"
     ]
    }
   ],
   "source": [
    "claw = setup()\n",
    "claw.run()\n",
    "\n",
    "from clawpack.visclaw import data\n",
    "from clawpack.visclaw import frametools\n",
    "plotdata = data.ClawPlotData()\n",
    "plotdata.setplot = setplot\n",
    "claw.plotdata = frametools.call_setplot(setplot,plotdata)\n",
    "\n",
    "frame = claw.load_frame(10)\n",
    "f=claw.plot_frame(frame)"
   ]
  },
  {
   "cell_type": "code",
   "execution_count": 97,
   "id": "7df30509",
   "metadata": {},
   "outputs": [
    {
     "data": {
      "image/png": "[encoded data removed]",
      "text/plain": [
       "<Figure size 500x270 with 1 Axes>"
      ]
     },
     "metadata": {},
     "output_type": "display_data"
    }
   ],
   "source": [
    "%matplotlib inline\n",
    "import numpy as np\n",
    "import matplotlib.pyplot as plt\n",
    "plt.rcParams['text.usetex'] = True\n",
    "frame = claw.frames[5]\n",
    "dt = claw.tfinal/claw.num_output_times\n",
    "t = dt*5\n",
    "x = frame.state.grid.c_centers\n",
    "x = x[0]\n",
    "true = qtrue(x,t)\n",
    "fig, ax = plt.subplots(figsize=(5, 2.7))\n",
    "w = frame.q[0,:]\n",
    "\n",
    "ax.plot(x, w, label='Sharpclaw sol.')\n",
    "ax.plot(x, true, ':',label='exact solution')\n",
    "ax.legend(loc='right')\n",
    "ax.set_xlabel(r'$x$')\n",
    "ax.set_ylabel(r'$q$')\n",
    "plt.savefig(\"frameAdvectionSharpClaw.pdf\")"
   ]
  },
  {
   "cell_type": "code",
   "execution_count": 94,
   "id": "530da6fd",
   "metadata": {},
   "outputs": [],
   "source": [
    "nsimul=np.size(claw.frames)\n",
    "figs = []\n",
    "for i in range(nsimul):\n",
    "    fig = plt.figure(figsize=(5,3))\n",
    "    frame = claw.frames[i]\n",
    "    w = frame.q[0,:]\n",
    "    x = frame.state.grid.c_centers\n",
    "    x = x[0]\n",
    "    dt = claw.tfinal/claw.num_output_times\n",
    "    t = dt*i\n",
    "    true = qtrue(x,t)\n",
    "    plt.plot(x, w)\n",
    "    plt.plot(x, true, '--',color = 'r')\n",
    "    figs.append(fig)\n",
    "    plt.close(fig)\n",
    "    "
   ]
  },
  {
   "cell_type": "code",
   "execution_count": 95,
   "id": "8edb5fd1",
   "metadata": {},
   "outputs": [
    {
     "data": {
      "application/vnd.jupyter.widget-view+json": {
       "model_id": "a5af47225ff94422a755a518436022d1",
       "version_major": 2,
       "version_minor": 0
      },
      "text/plain": [
       "interactive(children=(IntSlider(value=0, description='frameno', max=10), Output()), _dom_classes=('widget-inte…"
      ]
     },
     "metadata": {},
     "output_type": "display_data"
    }
   ],
   "source": [
    "from clawpack.visclaw import animation_tools\n",
    "animation_tools.interact_animate_figs(figs)"
   ]
  },
  {
   "cell_type": "code",
   "execution_count": null,
   "id": "434a9994",
   "metadata": {},
   "outputs": [],
   "source": []
  }
 ],
 "metadata": {
  "kernelspec": {
   "display_name": "Python 3 (ipykernel)",
   "language": "python",
   "name": "python3"
  },
  "language_info": {
   "codemirror_mode": {
    "name": "ipython",
    "version": 3
   },
   "file_extension": ".py",
   "mimetype": "text/x-python",
   "name": "python",
   "nbconvert_exporter": "python",
   "pygments_lexer": "ipython3",
   "version": "3.9.18"
  }
 },
 "nbformat": 4,
 "nbformat_minor": 5
}
