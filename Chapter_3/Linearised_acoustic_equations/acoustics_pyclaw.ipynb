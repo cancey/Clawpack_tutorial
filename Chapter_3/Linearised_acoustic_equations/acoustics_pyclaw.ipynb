{
 "cells": [
  {
   "cell_type": "code",
   "execution_count": 1,
   "id": "e3402468",
   "metadata": {},
   "outputs": [],
   "source": [
    "%matplotlib inline\n",
    "\n",
    "from numpy import sqrt, exp, cos\n",
    "from clawpack import riemann\n",
    "from clawpack import pyclaw\n",
    "\n",
    "def acoustics(q_l,q_r,aux_l,aux_r,problem_data):\n",
    "    r\"\"\"\n",
    "    Basic 1d acoustics riemann solver, with interleaved arrays\n",
    "\n",
    "    *problem_data* is expected to contain -\n",
    "     - *zz* - (float) Impedance\n",
    "     - *cc* - (float) Speed of sound\n",
    "\n",
    "    See :ref:`pyclaw_rp` for more details.\n",
    "\n",
    "    :Version: 1.0 (2009-02-03)\n",
    "    \"\"\"\n",
    "    import numpy as np\n",
    "    num_eqn = 2\n",
    "    num_waves = 2\n",
    "\n",
    "    # Convenience\n",
    "    num_rp = np.size(q_l,1)\n",
    "\n",
    "    # Return values\n",
    "    wave = np.empty( (num_eqn, num_waves, num_rp) )\n",
    "    s = np.empty( (num_waves, num_rp) )\n",
    "    amdq = np.empty( (num_eqn, num_rp) )\n",
    "    apdq = np.empty( (num_eqn, num_rp) )\n",
    "\n",
    "    # Local values\n",
    "    delta = np.empty(np.shape(q_l))\n",
    "\n",
    "    delta = q_r - q_l\n",
    "    a1 = (-delta[0,:] + problem_data['zz']*delta[1,:]) / (2.0 * problem_data['zz'])\n",
    "    a2 = (delta[0,:] + problem_data['zz']*delta[1,:]) / (2.0 * problem_data['zz'])\n",
    "\n",
    "    # Compute the waves\n",
    "    # 1-Wave\n",
    "    wave[0,0,:] = -a1 * problem_data['zz']\n",
    "    wave[1,0,:] = a1\n",
    "    s[0,:] = -problem_data['cc']\n",
    "\n",
    "    # 2-Wave\n",
    "    wave[0,1,:] = a2 * problem_data['zz']\n",
    "    wave[1,1,:] = a2\n",
    "    s[1,:] = problem_data['cc']\n",
    "\n",
    "    # Compute the left going and right going fluctuations\n",
    "    for m in range(num_eqn):\n",
    "        amdq[m,:] = s[0,:] * wave[m,0,:]\n",
    "        apdq[m,:] = s[1,:] * wave[m,1,:]\n",
    "\n",
    "    return wave, s, amdq, apdq\n",
    "\n",
    "def setup(outdir='./_output',  output_style=1):\n",
    "\n",
    "    #riemann_solver = riemann.acoustics_1D_py.acoustics_1D\n",
    "    riemann_solver = acoustics\n",
    "    solver = pyclaw.ClawSolver1D(riemann_solver)\n",
    "    solver.limiters = pyclaw.limiters.tvd.MC\n",
    "    solver.kernel_language = 'Python'\n",
    "    solver.num_waves = 2\n",
    "    solver.num_eqn = 2\n",
    "    \n",
    "    x = pyclaw.Dimension(0.0, 1.0, 100, name='x')\n",
    "    domain = pyclaw.Domain(x)\n",
    "    num_eqn = 2\n",
    "    state = pyclaw.State(domain, num_eqn)\n",
    "\n",
    "    solver.bc_lower[0] = pyclaw.BC.periodic\n",
    "    solver.bc_upper[0] = pyclaw.BC.periodic\n",
    "\n",
    "    rho = 1.0   # Material density\n",
    "    bulk = 1.0  # Material bulk modulus\n",
    "\n",
    "    state.problem_data['rho'] = rho\n",
    "    state.problem_data['bulk'] = bulk\n",
    "    state.problem_data['zz'] = sqrt(rho*bulk)   # Impedance\n",
    "    state.problem_data['cc'] = sqrt(bulk/rho)   # Sound speed\n",
    "\n",
    "    xc = domain.grid.x.centers\n",
    "    beta = 100\n",
    "    gamma = 0\n",
    "    x0 = 0.75\n",
    "    state.q[0, :] = exp(-beta * (xc-x0)**2) * cos(gamma * (xc - x0))\n",
    "    state.q[1, :] = 0.0\n",
    "\n",
    "    solver.dt_initial = domain.grid.delta[0] / state.problem_data['cc'] * 0.1\n",
    "\n",
    "    claw = pyclaw.Controller()\n",
    "    claw.solution = pyclaw.Solution(state, domain)\n",
    "    claw.solver = solver\n",
    "    claw.outdir = outdir\n",
    "    claw.output_style = output_style\n",
    "    output_style = 1\n",
    "    claw.tfinal = 1.0\n",
    "    claw.num_output_times = 10\n",
    "    claw.keep_copy = True\n",
    "    #claw.setplot = setplot\n",
    "\n",
    "    return claw\n",
    "\n",
    "\n",
    "def setplot(plotdata):\n",
    "    \"\"\"\n",
    "    Specify what is to be plotted at each frame.\n",
    "    Input:  plotdata, an instance of visclaw.data.ClawPlotData.\n",
    "    Output: a modified version of plotdata.\n",
    "    \"\"\"\n",
    "    plotdata.clearfigures()  # clear any old figures,axes,items data\n",
    "\n",
    "    # Figure for pressure\n",
    "    plotfigure = plotdata.new_plotfigure(name='Pressure', figno=1)\n",
    "\n",
    "    # Set up for axes in this figure:\n",
    "    plotaxes = plotfigure.new_plotaxes()\n",
    "    plotaxes.axescmd = 'subplot(211)'\n",
    "    plotaxes.ylimits = [-0.2, 1.0]\n",
    "    plotaxes.title = 'Pressure'\n",
    "\n",
    "    # Set up for item on these axes:\n",
    "    plotitem = plotaxes.new_plotitem(plot_type='1d_plot')\n",
    "    plotitem.plot_var = 0\n",
    "    plotitem.plotstyle = '-o'\n",
    "    plotitem.color = 'b'\n",
    "    plotitem.kwargs = {'linewidth': 2, 'markersize': 5}\n",
    "\n",
    "    # Set up for axes in this figure:\n",
    "    plotaxes = plotfigure.new_plotaxes()\n",
    "    plotaxes.axescmd = 'subplot(212)'\n",
    "    plotaxes.xlimits = 'auto'\n",
    "    plotaxes.ylimits = [-0.5, 1.1]\n",
    "    plotaxes.title = 'Velocity'\n",
    "\n",
    "    # Set up for item on these axes:\n",
    "    plotitem = plotaxes.new_plotitem(plot_type='1d_plot')\n",
    "    plotitem.plot_var = 1\n",
    "    plotitem.plotstyle = '-'\n",
    "    plotitem.color = 'b'\n",
    "    plotitem.kwargs = {'linewidth': 3, 'markersize': 5}\n",
    "\n",
    "    return plotdata"
   ]
  },
  {
   "cell_type": "code",
   "execution_count": 2,
   "id": "d2bf16ea",
   "metadata": {},
   "outputs": [
    {
     "name": "stdout",
     "output_type": "stream",
     "text": [
      "2024-04-01 14:49:58,943 INFO CLAW: Solution 0 computed for time t=0.000000\n",
      "2024-04-01 14:49:58,951 INFO CLAW: Solution 1 computed for time t=0.100000\n",
      "2024-04-01 14:49:58,962 INFO CLAW: Solution 2 computed for time t=0.200000\n"
     ]
    },
    {
     "name": "stdout",
     "output_type": "stream",
     "text": [
      "2024-04-01 14:49:58,969 INFO CLAW: Solution 3 computed for time t=0.300000\n",
      "2024-04-01 14:49:58,978 INFO CLAW: Solution 4 computed for time t=0.400000\n",
      "2024-04-01 14:49:58,987 INFO CLAW: Solution 5 computed for time t=0.500000\n",
      "2024-04-01 14:49:58,995 INFO CLAW: Solution 6 computed for time t=0.600000\n",
      "2024-04-01 14:49:59,004 INFO CLAW: Solution 7 computed for time t=0.700000\n",
      "2024-04-01 14:49:59,013 INFO CLAW: Solution 8 computed for time t=0.800000\n",
      "2024-04-01 14:49:59,021 INFO CLAW: Solution 9 computed for time t=0.900000\n",
      "2024-04-01 14:49:59,031 INFO CLAW: Solution 10 computed for time t=1.000000\n",
      "Executed setplot successfully\n"
     ]
    }
   ],
   "source": [
    "claw = setup()\n",
    "claw.run()\n",
    "\n",
    "from clawpack.visclaw import data\n",
    "from clawpack.visclaw import frametools\n",
    "plotdata = data.ClawPlotData()\n",
    "plotdata.setplot = setplot\n",
    "claw.plotdata = frametools.call_setplot(setplot,plotdata)\n",
    "\n",
    "frame = claw.load_frame(10)\n",
    "f=claw.plot_frame(frame)"
   ]
  },
  {
   "cell_type": "code",
   "execution_count": 3,
   "id": "7df30509",
   "metadata": {},
   "outputs": [
    {
     "data": {
      "image/png": "[encoded data removed]",
      "text/plain": [
       "<Figure size 640x480 with 1 Axes>"
      ]
     },
     "metadata": {},
     "output_type": "display_data"
    }
   ],
   "source": [
    "%matplotlib inline\n",
    "import numpy as np\n",
    "import matplotlib.pyplot as plt\n",
    "\n",
    "frame = claw.frames[5]\n",
    "w = frame.q[0,:]\n",
    "x = frame.state.grid.c_centers\n",
    "x = x[0]\n",
    "\n",
    "fig=plt.plot(x, w)\n",
    "plt.savefig(\"frame5.pdf\")"
   ]
  },
  {
   "cell_type": "code",
   "execution_count": 4,
   "id": "530da6fd",
   "metadata": {},
   "outputs": [],
   "source": [
    "nsimul=np.size(claw.frames)\n",
    "figs = []\n",
    "for i in range(nsimul):\n",
    "    fig = plt.figure(figsize=(5,3))\n",
    "    frame = claw.frames[i]\n",
    "    w = frame.q[0,:]\n",
    "    x = frame.state.grid.c_centers\n",
    "    x = x[0]\n",
    "    plt.plot(x, w)\n",
    "    figs.append(fig)\n",
    "    plt.close(fig)\n",
    "    #plt.plot(x, w)"
   ]
  },
  {
   "cell_type": "code",
   "execution_count": 5,
   "id": "8edb5fd1",
   "metadata": {},
   "outputs": [
    {
     "data": {
      "application/vnd.jupyter.widget-view+json": {
       "model_id": "54d398813607450999e3c2de1f4f7499",
       "version_major": 2,
       "version_minor": 0
      },
      "text/plain": [
       "interactive(children=(IntSlider(value=0, description='frameno', max=10), Output()), _dom_classes=('widget-inte…"
      ]
     },
     "metadata": {},
     "output_type": "display_data"
    }
   ],
   "source": [
    "from clawpack.visclaw import animation_tools\n",
    "animation_tools.interact_animate_figs(figs)"
   ]
  },
  {
   "cell_type": "code",
   "execution_count": null,
   "id": "e61e97f7",
   "metadata": {},
   "outputs": [],
   "source": []
  },
  {
   "cell_type": "code",
   "execution_count": null,
   "id": "85697ef8",
   "metadata": {},
   "outputs": [],
   "source": []
  }
 ],
 "metadata": {
  "kernelspec": {
   "display_name": "Python 3 (ipykernel)",
   "language": "python",
   "name": "python3"
  },
  "language_info": {
   "codemirror_mode": {
    "name": "ipython",
    "version": 3
   },
   "file_extension": ".py",
   "mimetype": "text/x-python",
   "name": "python",
   "nbconvert_exporter": "python",
   "pygments_lexer": "ipython3",
   "version": "3.9.18"
  }
 },
 "nbformat": 4,
 "nbformat_minor": 5
}
