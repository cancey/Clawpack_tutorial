{
 "cells": [
  {
   "cell_type": "code",
   "execution_count": 1,
   "id": "cfd5ff72",
   "metadata": {},
   "outputs": [],
   "source": [
    "#import the numpy libray and its linear algebra sublibrary\n",
    "import numpy as np\n",
    "from numpy import linalg as la\n",
    "eps=1e-8"
   ]
  },
  {
   "cell_type": "code",
   "execution_count": 2,
   "id": "4bfda626",
   "metadata": {},
   "outputs": [],
   "source": [
    "#examples\n",
    "A=np.array([[1,2,3],[4,5,6],[2,8,2]])"
   ]
  },
  {
   "cell_type": "code",
   "execution_count": 3,
   "id": "7aae7840",
   "metadata": {},
   "outputs": [
    {
     "name": "stdout",
     "output_type": "stream",
     "text": [
      "R = \n",
      " [[-3.02079270e-01 -8.32050294e-01 -4.08248290e-01]\n",
      " [-7.14005547e-01  2.07143878e-16 -4.08248290e-01]\n",
      " [-6.31620292e-01  5.54700196e-01  8.16496581e-01]]\n",
      "L = \n",
      " [[-0.37139068 -0.74278135 -0.55708601]\n",
      " [-0.84515425  0.50709255 -0.16903085]\n",
      " [ 0.39801488 -0.69652603  0.59702231]]\n",
      "[lambda] = \n",
      " [[12.  0.  0.]\n",
      " [ 0. -1.  0.]\n",
      " [ 0.  0. -3.]]\n"
     ]
    }
   ],
   "source": [
    "#computing the right and left eigenvalues and vectors\n",
    "# @ refers to the simple contracted product and .T provides the transpose\n",
    "# R: matrix whose columns are right eigenvectors. \n",
    "# L: matrix whose rows are left eigenvectors. \n",
    "# LAM: diagonal matrix whose entries are the eigenvalues\n",
    "lamb1, R = la.eig(A)\n",
    "lamb2, L = la.eig(A.T) \n",
    "L=L.T\n",
    "print(\"R = \\n\",R)\n",
    "print(\"L = \\n\",L)\n",
    "LAM = np.diag(lamb1)\n",
    "print(\"[lambda] = \\n\",LAM)"
   ]
  },
  {
   "cell_type": "code",
   "execution_count": 6,
   "id": "4903ef0d",
   "metadata": {},
   "outputs": [
    {
     "name": "stdout",
     "output_type": "stream",
     "text": [
      "[[0. 0. 0.]\n",
      " [0. 0. 0.]\n",
      " [0. 0. 0.]]\n"
     ]
    }
   ],
   "source": [
    "#check that w is made by the right eigenvectors. We compute C = A.R-R.LAM. We replace small values by 0. \n",
    " \n",
    "# We check that this matrix is zero\n",
    "C=A@R-R@LAM\n",
    "C[abs(C)<eps]=0\n",
    "print(C)"
   ]
  },
  {
   "cell_type": "code",
   "execution_count": 8,
   "id": "ed95ebc8",
   "metadata": {},
   "outputs": [
    {
     "name": "stdout",
     "output_type": "stream",
     "text": [
      "[[0. 0. 0.]\n",
      " [0. 0. 0.]\n",
      " [0. 0. 0.]]\n"
     ]
    }
   ],
   "source": [
    "#We do the same with thee left eigenvectors and check that C=L.A-L.LAM is zero.\n",
    "C=L@A - LAM @L\n",
    "C[abs(C)<eps]=0\n",
    "print(C)\n"
   ]
  },
  {
   "cell_type": "code",
   "execution_count": 9,
   "id": "0c9d3dd2",
   "metadata": {},
   "outputs": [
    {
     "name": "stdout",
     "output_type": "stream",
     "text": [
      "[[0.99440626 0.         0.        ]\n",
      " [0.         0.6094494  0.        ]\n",
      " [0.         0.         0.60933335]]\n"
     ]
    }
   ],
   "source": [
    "#Check that the product L.R gives a diagonal matrix\n",
    "lr=L@R\n",
    "lr[lr<eps]=0\n",
    "print(lr)\n"
   ]
  },
  {
   "cell_type": "code",
   "execution_count": 57,
   "id": "2a712a93",
   "metadata": {},
   "outputs": [
    {
     "name": "stdout",
     "output_type": "stream",
     "text": [
      "v_1.A-lambda_1*v_1 =  [0. 0. 0.]\n",
      "v_1.w_1 =  0.9944062617398504\n",
      "v_1.w_2 =  0.0\n"
     ]
    }
   ],
   "source": [
    "#left and right eigenvectors are perpendicular when not associated with the same eigenvalue\n",
    "w1 = R[:,0] # First column is the first right eigenvector\n",
    "w2 = R[:,1]\n",
    "w3 = R[:,2]\n",
    " \n",
    "v1 = L[0,:] # First row is the first left eigenvector\n",
    "v2 = L[1,:]\n",
    "v3 = L[2,:]\n",
    "\n",
    "# v_1.A-lambda_1v_1 = 0 ?\n",
    "result=v1@A-lamb[0]*v1\n",
    "result[result<eps]=0\n",
    "\n",
    "print(\"v_1.A-lambda_1*v_1 = \",result)\n",
    "# v_1 and w_1 normal?\n",
    "vw11=v1@w1; \n",
    "vw12=v1@w3; \n",
    "print(\"v_1.w_1 = \",vw11)\n",
    "print(\"v_1.w_2 = \",vw12)"
   ]
  },
  {
   "cell_type": "code",
   "execution_count": null,
   "id": "a4fad25a",
   "metadata": {},
   "outputs": [],
   "source": []
  }
 ],
 "metadata": {
  "kernelspec": {
   "display_name": "Python 3 (ipykernel)",
   "language": "python",
   "name": "python3"
  },
  "language_info": {
   "codemirror_mode": {
    "name": "ipython",
    "version": 3
   },
   "file_extension": ".py",
   "mimetype": "text/x-python",
   "name": "python",
   "nbconvert_exporter": "python",
   "pygments_lexer": "ipython3",
   "version": "3.9.12"
  }
 },
 "nbformat": 4,
 "nbformat_minor": 5
}
