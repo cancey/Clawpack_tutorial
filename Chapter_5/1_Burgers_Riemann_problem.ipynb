{
 "cells": [
  {
   "cell_type": "code",
   "execution_count": 1,
   "id": "645adbe5",
   "metadata": {},
   "outputs": [],
   "source": [
    "%matplotlib inline\n",
    "import numpy as np\n",
    "import matplotlib.pyplot as plt\n",
    "\n",
    "from numpy import sqrt, log \n",
    "from clawpack import riemann\n",
    "from clawpack import pyclaw\n",
    " \n",
    "def qsol(x,t,ql,qr):\n",
    "    \"\"\"\n",
    "    The initial and true solution.  \n",
    "    \"\"\"\n",
    "    import numpy as np\n",
    "    dim = x.shape[0] \n",
    "    q = np.empty(dim)\n",
    "     \n",
    "    if qr < ql:\n",
    "        s = (qr+ql)/2\n",
    "        for i in range(dim):\n",
    "            if x[i]>=s*t:\n",
    "                q[i] = qr\n",
    "            else:\n",
    "                q[i] = ql\n",
    "    else:\n",
    "        if t > 0:\n",
    "            xr = qr*t\n",
    "            xl = ql*t\n",
    "            for i in range(dim):\n",
    "                if x[i]>=xl and x[i]<=xr:\n",
    "                    q[i] = x[i]/t\n",
    "                elif x[i]>xr:\n",
    "                    q[i] = qr\n",
    "                elif x[i]<xl:\n",
    "                    q[i] = ql\n",
    "        else:\n",
    "            for i in range(dim):\n",
    "                if x[i]>=0:\n",
    "                    q[i] = qr\n",
    "                else:\n",
    "                    q[i] = ql\n",
    "                \n",
    "    return q\n",
    "\n",
    "def setup(ql,qr):\n",
    "    \n",
    "    solver = pyclaw.ClawSolver1D()\n",
    "    solver.rp = riemann.burgers_1D_py.burgers_1D\n",
    "\n",
    "    solver.num_waves = 1\n",
    "    solver.num_eqn = 1\n",
    "    solver.kernel_language = 'Python'\n",
    "    solver.limiters = pyclaw.limiters.tvd.superbee\n",
    "    solver.bc_lower[0] = pyclaw.BC.extrap\n",
    "    solver.bc_upper[0] = pyclaw.BC.extrap\n",
    "    solver.order = 2 #1: Godunov, 2: Lax-Wendroff-LeVeque\n",
    "    \n",
    "    x = pyclaw.Dimension(-1, 1., 200, name='x')\n",
    "    domain = pyclaw.Domain(x)\n",
    "    num_eqn = 1\n",
    "    \n",
    "    state = pyclaw.State(domain, num_eqn)  \n",
    "    state.problem_data['efix'] = True\n",
    "    \n",
    "    xc = domain.grid.x.centers\n",
    "    \n",
    "    state.q[0, :] = qsol(xc,0,ql,qr)\n",
    " \n",
    "    claw = pyclaw.Controller()\n",
    "    claw.solution = pyclaw.Solution(state, domain)\n",
    "    claw.solver = solver\n",
    "    claw.outdir = './_output'\n",
    "    claw.output_style = 1\n",
    "    claw.tfinal = 2.0\n",
    "    claw.num_output_times = 20\n",
    "    claw.keep_copy = True\n",
    "\n",
    "    return claw\n"
   ]
  },
  {
   "cell_type": "code",
   "execution_count": 2,
   "id": "a8956665",
   "metadata": {},
   "outputs": [
    {
     "name": "stdout",
     "output_type": "stream",
     "text": [
      "2024-04-01 18:09:22,846 INFO CLAW: Solution 0 computed for time t=0.000000\n",
      "2024-04-01 18:09:22,857 INFO CLAW: Solution 1 computed for time t=0.100000\n"
     ]
    },
    {
     "name": "stdout",
     "output_type": "stream",
     "text": [
      "2024-04-01 18:09:22,867 INFO CLAW: Solution 2 computed for time t=0.200000\n",
      "2024-04-01 18:09:22,879 INFO CLAW: Solution 3 computed for time t=0.300000\n",
      "2024-04-01 18:09:22,887 INFO CLAW: Solution 4 computed for time t=0.400000\n",
      "2024-04-01 18:09:22,896 INFO CLAW: Solution 5 computed for time t=0.500000\n",
      "2024-04-01 18:09:22,908 INFO CLAW: Solution 6 computed for time t=0.600000\n",
      "2024-04-01 18:09:22,921 INFO CLAW: Solution 7 computed for time t=0.700000\n",
      "2024-04-01 18:09:22,933 INFO CLAW: Solution 8 computed for time t=0.800000\n",
      "2024-04-01 18:09:22,944 INFO CLAW: Solution 9 computed for time t=0.900000\n",
      "2024-04-01 18:09:22,956 INFO CLAW: Solution 10 computed for time t=1.000000\n",
      "2024-04-01 18:09:22,966 INFO CLAW: Solution 11 computed for time t=1.100000\n",
      "2024-04-01 18:09:22,977 INFO CLAW: Solution 12 computed for time t=1.200000\n",
      "2024-04-01 18:09:22,986 INFO CLAW: Solution 13 computed for time t=1.300000\n",
      "2024-04-01 18:09:22,996 INFO CLAW: Solution 14 computed for time t=1.400000\n",
      "2024-04-01 18:09:23,007 INFO CLAW: Solution 15 computed for time t=1.500000\n",
      "2024-04-01 18:09:23,015 INFO CLAW: Solution 16 computed for time t=1.600000\n",
      "2024-04-01 18:09:23,024 INFO CLAW: Solution 17 computed for time t=1.700000\n",
      "2024-04-01 18:09:23,034 INFO CLAW: Solution 18 computed for time t=1.800000\n",
      "2024-04-01 18:09:23,045 INFO CLAW: Solution 19 computed for time t=1.900000\n",
      "2024-04-01 18:09:23,056 INFO CLAW: Solution 20 computed for time t=2.000000\n"
     ]
    },
    {
     "data": {
      "image/png": "[encoded data removed]",
      "text/plain": [
       "<Figure size 300x300 with 1 Axes>"
      ]
     },
     "metadata": {},
     "output_type": "display_data"
    }
   ],
   "source": [
    "claw = setup(2,0)\n",
    "claw.run()\n",
    "\n",
    "plt.rcParams['text.usetex'] = True\n",
    "index = 3\n",
    "frame = claw.frames[index]\n",
    "dt    = claw.tfinal/claw.num_output_times\n",
    "t     = dt*index\n",
    "x     = frame.state.grid.c_centers\n",
    "x     = x[0]\n",
    "true  = qsol(x,t,2,0)\n",
    "fig, ax = plt.subplots(figsize=(3,3))\n",
    "w = frame.q[0,:]\n",
    "\n",
    "ax.plot(x, w, label='Clawpack sol.')\n",
    "ax.plot(x, true, ':',label='exact solution')\n",
    "ax.legend(loc='lower left')\n",
    "ax.set_xlabel(r'$x$')\n",
    "ax.set_ylabel(r'$q$')\n",
    "plt.text(-1,1.5,'(a)' )\n",
    "plt.savefig(\"ShockBurgerClaw.pdf\",bbox_inches='tight')"
   ]
  },
  {
   "cell_type": "code",
   "execution_count": 3,
   "id": "3e57c30b",
   "metadata": {},
   "outputs": [
    {
     "name": "stdout",
     "output_type": "stream",
     "text": [
      "2024-04-01 18:09:45,481 INFO CLAW: Solution 0 computed for time t=0.000000\n",
      "2024-04-01 18:09:45,490 INFO CLAW: Solution 1 computed for time t=0.100000\n",
      "2024-04-01 18:09:45,499 INFO CLAW: Solution 2 computed for time t=0.200000\n",
      "2024-04-01 18:09:45,509 INFO CLAW: Solution 3 computed for time t=0.300000\n",
      "2024-04-01 18:09:45,521 INFO CLAW: Solution 4 computed for time t=0.400000\n",
      "2024-04-01 18:09:45,533 INFO CLAW: Solution 5 computed for time t=0.500000\n",
      "2024-04-01 18:09:45,544 INFO CLAW: Solution 6 computed for time t=0.600000\n",
      "2024-04-01 18:09:45,553 INFO CLAW: Solution 7 computed for time t=0.700000\n",
      "2024-04-01 18:09:45,561 INFO CLAW: Solution 8 computed for time t=0.800000\n",
      "2024-04-01 18:09:45,569 INFO CLAW: Solution 9 computed for time t=0.900000\n",
      "2024-04-01 18:09:45,575 INFO CLAW: Solution 10 computed for time t=1.000000\n",
      "2024-04-01 18:09:45,581 INFO CLAW: Solution 11 computed for time t=1.100000\n",
      "2024-04-01 18:09:45,588 INFO CLAW: Solution 12 computed for time t=1.200000\n",
      "2024-04-01 18:09:45,592 INFO CLAW: Solution 13 computed for time t=1.300000\n",
      "2024-04-01 18:09:45,598 INFO CLAW: Solution 14 computed for time t=1.400000\n",
      "2024-04-01 18:09:45,604 INFO CLAW: Solution 15 computed for time t=1.500000\n",
      "2024-04-01 18:09:45,613 INFO CLAW: Solution 16 computed for time t=1.600000\n",
      "2024-04-01 18:09:45,621 INFO CLAW: Solution 17 computed for time t=1.700000\n",
      "2024-04-01 18:09:45,626 INFO CLAW: Solution 18 computed for time t=1.800000\n",
      "2024-04-01 18:09:45,631 INFO CLAW: Solution 19 computed for time t=1.900000\n",
      "2024-04-01 18:09:45,636 INFO CLAW: Solution 20 computed for time t=2.000000\n"
     ]
    },
    {
     "data": {
      "image/png": "[encoded data removed]",
      "text/plain": [
       "<Figure size 300x300 with 1 Axes>"
      ]
     },
     "metadata": {},
     "output_type": "display_data"
    }
   ],
   "source": [
    "claw = setup(0,2)\n",
    "claw.run()\n",
    "\n",
    "plt.rcParams['text.usetex'] = True\n",
    "index = 3\n",
    "\n",
    "frame = claw.frames[index]\n",
    "dt = claw.tfinal/claw.num_output_times\n",
    "t = dt*index\n",
    "x = frame.state.grid.c_centers\n",
    "x = x[0]\n",
    "true = qsol(x,t,0,2)\n",
    "fig, ax = plt.subplots(figsize=(3,3))\n",
    "w = frame.q[0,:]\n",
    "\n",
    "ax.plot(x, w, label='Clawpack sol.')\n",
    "ax.plot(x, true, ':',label='exact solution')\n",
    "#ax.legend(loc='lower left')\n",
    "ax.set_xlabel(r'$x$')\n",
    "ax.set_ylabel(r'$q$')\n",
    "plt.text(-1,1.5,'(b)' )\n",
    "plt.savefig(\"RarefactionBurgerClaw.pdf\",bbox_inches='tight')\n"
   ]
  },
  {
   "cell_type": "code",
   "execution_count": 4,
   "id": "9b0121fe",
   "metadata": {},
   "outputs": [
    {
     "name": "stdout",
     "output_type": "stream",
     "text": [
      "2024-04-01 18:11:33,299 INFO CLAW: Solution 0 computed for time t=0.000000\n",
      "2024-04-01 18:11:33,305 INFO CLAW: Solution 1 computed for time t=0.100000\n",
      "2024-04-01 18:11:33,311 INFO CLAW: Solution 2 computed for time t=0.200000\n",
      "2024-04-01 18:11:33,318 INFO CLAW: Solution 3 computed for time t=0.300000\n",
      "2024-04-01 18:11:33,324 INFO CLAW: Solution 4 computed for time t=0.400000\n",
      "2024-04-01 18:11:33,330 INFO CLAW: Solution 5 computed for time t=0.500000\n",
      "2024-04-01 18:11:33,336 INFO CLAW: Solution 6 computed for time t=0.600000\n",
      "2024-04-01 18:11:33,343 INFO CLAW: Solution 7 computed for time t=0.700000\n",
      "2024-04-01 18:11:33,351 INFO CLAW: Solution 8 computed for time t=0.800000\n",
      "2024-04-01 18:11:33,357 INFO CLAW: Solution 9 computed for time t=0.900000\n",
      "2024-04-01 18:11:33,362 INFO CLAW: Solution 10 computed for time t=1.000000\n",
      "2024-04-01 18:11:33,367 INFO CLAW: Solution 11 computed for time t=1.100000\n",
      "2024-04-01 18:11:33,373 INFO CLAW: Solution 12 computed for time t=1.200000\n",
      "2024-04-01 18:11:33,380 INFO CLAW: Solution 13 computed for time t=1.300000\n",
      "2024-04-01 18:11:33,385 INFO CLAW: Solution 14 computed for time t=1.400000\n",
      "2024-04-01 18:11:33,394 INFO CLAW: Solution 15 computed for time t=1.500000\n",
      "2024-04-01 18:11:33,399 INFO CLAW: Solution 16 computed for time t=1.600000\n",
      "2024-04-01 18:11:33,404 INFO CLAW: Solution 17 computed for time t=1.700000\n",
      "2024-04-01 18:11:33,410 INFO CLAW: Solution 18 computed for time t=1.800000\n",
      "2024-04-01 18:11:33,418 INFO CLAW: Solution 19 computed for time t=1.900000\n",
      "2024-04-01 18:11:33,426 INFO CLAW: Solution 20 computed for time t=2.000000\n"
     ]
    },
    {
     "data": {
      "image/png": "[encoded data removed]",
      "text/plain": [
       "<Figure size 300x300 with 1 Axes>"
      ]
     },
     "metadata": {},
     "output_type": "display_data"
    }
   ],
   "source": [
    "ul = -1 ; ur = 1\n",
    "claw = setup(ul,ur)\n",
    "claw.run()\n",
    "\n",
    "plt.rcParams['text.usetex'] = True\n",
    "index = 3\n",
    "frame = claw.frames[index]\n",
    "dt = claw.tfinal/claw.num_output_times\n",
    "t = dt*index\n",
    "x = frame.state.grid.c_centers\n",
    "x = x[0]\n",
    "true = qsol(x,t,ul,ur)\n",
    "fig, ax = plt.subplots(figsize=(3.,3))\n",
    "w = frame.q[0,:]\n",
    "\n",
    "ax.plot(x, w, label='Clawpack sol.')\n",
    "ax.plot(x, true, ':',label='exact solution')\n",
    "#ax.legend(loc='lower left')\n",
    "ax.set_xlabel(r'$x$')\n",
    "ax.set_ylabel(r'$q$')\n",
    "plt.text(-1,0.5,'(c)' )\n",
    "plt.savefig(\"TransonicBurgerClaw.pdf\",bbox_inches='tight')"
   ]
  },
  {
   "cell_type": "code",
   "execution_count": null,
   "id": "cc629e7c",
   "metadata": {},
   "outputs": [],
   "source": []
  }
 ],
 "metadata": {
  "kernelspec": {
   "display_name": "Python 3 (ipykernel)",
   "language": "python",
   "name": "python3"
  },
  "language_info": {
   "codemirror_mode": {
    "name": "ipython",
    "version": 3
   },
   "file_extension": ".py",
   "mimetype": "text/x-python",
   "name": "python",
   "nbconvert_exporter": "python",
   "pygments_lexer": "ipython3",
   "version": "3.9.18"
  }
 },
 "nbformat": 4,
 "nbformat_minor": 5
}
